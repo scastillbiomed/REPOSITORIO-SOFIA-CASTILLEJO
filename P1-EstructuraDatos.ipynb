{
 "cells": [
  {
   "cell_type": "markdown",
   "id": "57e5a4ba",
   "metadata": {},
   "source": [
    "# PRACTICA 1\n",
    "\n",
    "### Resuelve las siguientes preguntas empleando lo aprendido con las estructuras de Datos"
   ]
  },
  {
   "cell_type": "markdown",
   "id": "092831f1",
   "metadata": {},
   "source": [
    "Pon el código debajo de cada pregunta. Añade tantas celdas de código como necesites."
   ]
  },
  {
   "cell_type": "markdown",
   "id": "94b6abb8",
   "metadata": {},
   "source": [
    "#### 1.- Escribe una ecuación que emplee multiplicación, división, un exponente, suma y resta y que sea igual a 100.25. (0,25 ptos)"
   ]
  },
  {
   "cell_type": "code",
   "execution_count": 4,
   "id": "4e5e660a",
   "metadata": {},
   "outputs": [
    {
     "data": {
      "text/plain": [
       "100.25"
      ]
     },
     "execution_count": 4,
     "metadata": {},
     "output_type": "execute_result"
    }
   ],
   "source": [
    "(10*(10/10))**2+0.5-0.25"
   ]
  },
  {
   "cell_type": "markdown",
   "id": "95ec00dc",
   "metadata": {},
   "source": [
    "#### 2.- ¿Qué harías para obtener la raíz cuadrada de 100? Busca dos formas. (0,5 ptos)"
   ]
  },
  {
   "cell_type": "code",
   "execution_count": 1,
   "id": "d1476ef0",
   "metadata": {},
   "outputs": [
    {
     "data": {
      "text/plain": [
       "10.0"
      ]
     },
     "execution_count": 1,
     "metadata": {},
     "output_type": "execute_result"
    }
   ],
   "source": [
    "100**0.5"
   ]
  },
  {
   "cell_type": "code",
   "execution_count": 2,
   "id": "49682109-14d4-4092-aa69-2619d6710eba",
   "metadata": {},
   "outputs": [
    {
     "data": {
      "text/plain": [
       "10.0"
      ]
     },
     "execution_count": 2,
     "metadata": {},
     "output_type": "execute_result"
    }
   ],
   "source": [
    "100**(1/2)"
   ]
  },
  {
   "cell_type": "markdown",
   "id": "95232620",
   "metadata": {},
   "source": [
    "#### 3.- ¿Y el cuadrado de 100? (0,25 ptos)"
   ]
  },
  {
   "cell_type": "code",
   "execution_count": 3,
   "id": "14249667",
   "metadata": {},
   "outputs": [
    {
     "data": {
      "text/plain": [
       "10000"
      ]
     },
     "execution_count": 3,
     "metadata": {},
     "output_type": "execute_result"
    }
   ],
   "source": [
    "100**2"
   ]
  },
  {
   "cell_type": "markdown",
   "id": "7fc5bfae",
   "metadata": {},
   "source": [
    "#### 4.- Tenemos la string 'hello'. (0,5 ptos)\n",
    "#### Primero devuelve la letra 'e'\n",
    "#### Luego dale la vuelta a la string \n",
    "#### Después usa dos métodos para devolver la letra 'o'"
   ]
  },
  {
   "cell_type": "code",
   "execution_count": 6,
   "id": "a6d0eb90",
   "metadata": {},
   "outputs": [],
   "source": [
    "s = 'hello'"
   ]
  },
  {
   "cell_type": "code",
   "execution_count": 7,
   "id": "a3f33800",
   "metadata": {},
   "outputs": [
    {
     "data": {
      "text/plain": [
       "'e'"
      ]
     },
     "execution_count": 7,
     "metadata": {},
     "output_type": "execute_result"
    }
   ],
   "source": [
    "s[1]"
   ]
  },
  {
   "cell_type": "code",
   "execution_count": 8,
   "id": "b150e3c3-7a8a-4f25-9e9f-75b25923c063",
   "metadata": {},
   "outputs": [
    {
     "data": {
      "text/plain": [
       "'olleh'"
      ]
     },
     "execution_count": 8,
     "metadata": {},
     "output_type": "execute_result"
    }
   ],
   "source": [
    "s[::-1]"
   ]
  },
  {
   "cell_type": "code",
   "execution_count": 9,
   "id": "c7b5cd12-6c82-4963-beb8-305ca8388473",
   "metadata": {},
   "outputs": [
    {
     "data": {
      "text/plain": [
       "'o'"
      ]
     },
     "execution_count": 9,
     "metadata": {},
     "output_type": "execute_result"
    }
   ],
   "source": [
    "s[4]"
   ]
  },
  {
   "cell_type": "code",
   "execution_count": 17,
   "id": "4b704d24-a913-4e29-9e70-5c8294b360d6",
   "metadata": {},
   "outputs": [
    {
     "data": {
      "text/plain": [
       "'o'"
      ]
     },
     "execution_count": 17,
     "metadata": {},
     "output_type": "execute_result"
    }
   ],
   "source": [
    "s[4:]"
   ]
  },
  {
   "cell_type": "markdown",
   "id": "0febc918",
   "metadata": {},
   "source": [
    "#### 5.- Crear una lista que contenga esto [0,0,0] de dos formas distintas (0,5 ptos)"
   ]
  },
  {
   "cell_type": "code",
   "execution_count": 19,
   "id": "30981b24",
   "metadata": {},
   "outputs": [],
   "source": [
    "mi_lista=[0,0,0]"
   ]
  },
  {
   "cell_type": "code",
   "execution_count": 20,
   "id": "ed70fdd6-f27e-4c07-a391-fb724845bfd3",
   "metadata": {},
   "outputs": [
    {
     "data": {
      "text/plain": [
       "[0, 0, 0]"
      ]
     },
     "execution_count": 20,
     "metadata": {},
     "output_type": "execute_result"
    }
   ],
   "source": [
    "mi_lista"
   ]
  },
  {
   "cell_type": "code",
   "execution_count": 111,
   "id": "2a1c2c00-4b54-4a4e-9b60-5267f0a702d4",
   "metadata": {},
   "outputs": [
    {
     "data": {
      "text/plain": [
       "[0, 0, 0]"
      ]
     },
     "execution_count": 111,
     "metadata": {},
     "output_type": "execute_result"
    }
   ],
   "source": [
    "lista2=[0,0]\n",
    "lista2=lista2+[0]\n",
    "lista2"
   ]
  },
  {
   "cell_type": "markdown",
   "id": "80e1a951",
   "metadata": {},
   "source": [
    "#### 6.- Reasigna 'hello' en la lista a continuación para que diga 'goodbye' (1 pto)"
   ]
  },
  {
   "cell_type": "code",
   "execution_count": null,
   "id": "20d1ebdf",
   "metadata": {},
   "outputs": [],
   "source": [
    "lista = [1,2,[3,4,'hello']]"
   ]
  },
  {
   "cell_type": "code",
   "execution_count": 28,
   "id": "e9eb03ae",
   "metadata": {},
   "outputs": [],
   "source": [
    "lista=[1,2,[3,4,'goodbye']]"
   ]
  },
  {
   "cell_type": "code",
   "execution_count": 30,
   "id": "dcbbc4a9-d8d0-4e0e-980b-2ff8081f4013",
   "metadata": {},
   "outputs": [
    {
     "data": {
      "text/plain": [
       "[1, 2, [3, 4, 'goodbye']]"
      ]
     },
     "execution_count": 30,
     "metadata": {},
     "output_type": "execute_result"
    }
   ],
   "source": [
    "lista"
   ]
  },
  {
   "cell_type": "markdown",
   "id": "77e38490",
   "metadata": {},
   "source": [
    "#### 7.- Ordena la siguiente lista (0,5 ptos)"
   ]
  },
  {
   "cell_type": "code",
   "execution_count": 31,
   "id": "bc957d55",
   "metadata": {},
   "outputs": [],
   "source": [
    "listaSinOrdenar = [5,3,4,6,1]"
   ]
  },
  {
   "cell_type": "code",
   "execution_count": 32,
   "id": "e2c2fb65",
   "metadata": {},
   "outputs": [],
   "source": [
    "listaSinOrdenar.sort()"
   ]
  },
  {
   "cell_type": "code",
   "execution_count": 33,
   "id": "b6dcf0cd-eacb-4347-a550-7b176ebd561d",
   "metadata": {},
   "outputs": [
    {
     "data": {
      "text/plain": [
       "[1, 3, 4, 5, 6]"
      ]
     },
     "execution_count": 33,
     "metadata": {},
     "output_type": "execute_result"
    }
   ],
   "source": [
    "listaSinOrdenar"
   ]
  },
  {
   "cell_type": "markdown",
   "id": "0cc790ac",
   "metadata": {},
   "source": [
    "#### 8.- En los siguientes diccionarios, extrae el valor de 'hello (2 ptos)"
   ]
  },
  {
   "cell_type": "code",
   "execution_count": 46,
   "id": "c390a0bb",
   "metadata": {},
   "outputs": [],
   "source": [
    "f = {'k1':{'k2':'hello'}}"
   ]
  },
  {
   "cell_type": "code",
   "execution_count": 95,
   "id": "61e87aa3-494d-45fe-a2b4-c6f2243e3538",
   "metadata": {},
   "outputs": [
    {
     "data": {
      "text/plain": [
       "'hello'"
      ]
     },
     "execution_count": 95,
     "metadata": {},
     "output_type": "execute_result"
    }
   ],
   "source": [
    "f['k1']['k2']"
   ]
  },
  {
   "cell_type": "code",
   "execution_count": 38,
   "id": "c0244e1f",
   "metadata": {},
   "outputs": [],
   "source": [
    "d = {'key1':'hello'}"
   ]
  },
  {
   "cell_type": "code",
   "execution_count": 40,
   "id": "196ef04c",
   "metadata": {},
   "outputs": [
    {
     "data": {
      "text/plain": [
       "'hello'"
      ]
     },
     "execution_count": 40,
     "metadata": {},
     "output_type": "execute_result"
    }
   ],
   "source": [
    "d['key1']"
   ]
  },
  {
   "cell_type": "code",
   "execution_count": 54,
   "id": "344d780b",
   "metadata": {},
   "outputs": [],
   "source": [
    "g = {'k1':[{'o1':['valor escondido',['hello']]}]}"
   ]
  },
  {
   "cell_type": "code",
   "execution_count": 105,
   "id": "e965a858",
   "metadata": {},
   "outputs": [
    {
     "data": {
      "text/plain": [
       "'hello'"
      ]
     },
     "execution_count": 105,
     "metadata": {},
     "output_type": "execute_result"
    }
   ],
   "source": [
    "g['k1'][0]['o1'][1][0]"
   ]
  },
  {
   "cell_type": "code",
   "execution_count": 127,
   "id": "663f9ffd",
   "metadata": {},
   "outputs": [],
   "source": [
    "h = {'k1':[1,2,{'k2':['complicado',{'dificil':[1,2,['hello']]}]}]}"
   ]
  },
  {
   "cell_type": "code",
   "execution_count": 128,
   "id": "9b9d7d97",
   "metadata": {},
   "outputs": [
    {
     "data": {
      "text/plain": [
       "'hello'"
      ]
     },
     "execution_count": 128,
     "metadata": {},
     "output_type": "execute_result"
    }
   ],
   "source": [
    "h['k1'][2]['k2'][1]['dificil'][2][0]"
   ]
  },
  {
   "cell_type": "markdown",
   "id": "7692eea8",
   "metadata": {},
   "source": [
    "#### 9.- Crea una tupla (1 pto)"
   ]
  },
  {
   "cell_type": "code",
   "execution_count": 1,
   "id": "23886da1",
   "metadata": {},
   "outputs": [],
   "source": [
    "t = (6,8,10)"
   ]
  },
  {
   "cell_type": "markdown",
   "id": "6231d723",
   "metadata": {},
   "source": [
    "#### 10.- Emplea los sets para encontrar los valores únicos de esta lista (0,5 ptos)"
   ]
  },
  {
   "cell_type": "code",
   "execution_count": 70,
   "id": "a7cbba3a",
   "metadata": {},
   "outputs": [],
   "source": [
    "listaDuplicada = [1,2,2,33,4,4,11,22,3,3,2]"
   ]
  },
  {
   "cell_type": "code",
   "execution_count": 71,
   "id": "71da8284",
   "metadata": {},
   "outputs": [
    {
     "data": {
      "text/plain": [
       "{1, 2, 3, 4, 11, 22, 33}"
      ]
     },
     "execution_count": 71,
     "metadata": {},
     "output_type": "execute_result"
    }
   ],
   "source": [
    "set(listaDuplicada)"
   ]
  },
  {
   "cell_type": "markdown",
   "id": "9b217cfc",
   "metadata": {},
   "source": [
    "#### 11.- Haz las siguientes comparaciones: (0,5 ptos)\n",
    "#### Dos mayor que tres\n",
    "#### Tres igual que 2\n",
    "#### La raíz cuadrada de cuatro no es igual a 2\n",
    "#### Se cumple si 6 es mayor que 5 y 7 menor de 8\n",
    "#### Se cumple si la longitud de _nombre_ es  que el número de elementos de _colores_ o si la longitud de _nombre_ es menor de 7."
   ]
  },
  {
   "cell_type": "code",
   "execution_count": 72,
   "id": "59b70e21",
   "metadata": {},
   "outputs": [
    {
     "data": {
      "text/plain": [
       "False"
      ]
     },
     "execution_count": 72,
     "metadata": {},
     "output_type": "execute_result"
    }
   ],
   "source": [
    "# 2 mayor que 3\n",
    "2>3"
   ]
  },
  {
   "cell_type": "code",
   "execution_count": 74,
   "id": "89985eaf",
   "metadata": {},
   "outputs": [
    {
     "data": {
      "text/plain": [
       "False"
      ]
     },
     "execution_count": 74,
     "metadata": {},
     "output_type": "execute_result"
    }
   ],
   "source": [
    "# 3 igual que 2\n",
    "3==2"
   ]
  },
  {
   "cell_type": "code",
   "execution_count": 75,
   "id": "16c4febf",
   "metadata": {},
   "outputs": [
    {
     "data": {
      "text/plain": [
       "False"
      ]
     },
     "execution_count": 75,
     "metadata": {},
     "output_type": "execute_result"
    }
   ],
   "source": [
    "# raíz cuadrada de 4 no es igual a 2\n",
    "4**0.5!=2"
   ]
  },
  {
   "cell_type": "code",
   "execution_count": 78,
   "id": "bb9a166f-f77b-434a-b98f-2c111be43fd3",
   "metadata": {},
   "outputs": [
    {
     "data": {
      "text/plain": [
       "True"
      ]
     },
     "execution_count": 78,
     "metadata": {},
     "output_type": "execute_result"
    }
   ],
   "source": [
    "6>5 and 7<8"
   ]
  },
  {
   "cell_type": "code",
   "execution_count": 76,
   "id": "e5ed7361-8611-4c1f-bebe-4f4247800baa",
   "metadata": {},
   "outputs": [],
   "source": [
    "nombre = \"Pepito\"\n",
    "colores = [\"azul\",\"rojo\",\"verde\",\"lila\",\"amarillo limón\"]"
   ]
  },
  {
   "cell_type": "code",
   "execution_count": 79,
   "id": "24271cc4-be2a-449b-9e8c-20dda083d8d7",
   "metadata": {},
   "outputs": [
    {
     "data": {
      "text/plain": [
       "False"
      ]
     },
     "execution_count": 79,
     "metadata": {},
     "output_type": "execute_result"
    }
   ],
   "source": [
    "len(\"nombre\")==len(\"colores\")"
   ]
  },
  {
   "cell_type": "code",
   "execution_count": 77,
   "id": "85b7411e-43e8-43d4-ab08-2d0fa7cab497",
   "metadata": {},
   "outputs": [
    {
     "data": {
      "text/plain": [
       "True"
      ]
     },
     "execution_count": 77,
     "metadata": {},
     "output_type": "execute_result"
    }
   ],
   "source": [
    "len(\"nombre\")<7"
   ]
  },
  {
   "cell_type": "markdown",
   "id": "bc1471d1-0d87-4c9d-8a0f-e2d735f2c764",
   "metadata": {},
   "source": [
    "#### 12.- Crea un archivo mediante código que se llame _tabla-nombres.txt_ y que esté formado por 4 columnas y 4 filas con la siguiente formación (1,5 ptos):\n",
    "#### Primera columna: Nombre\n",
    "#### Segunda columna: Apellidos (2 apellidos)\n",
    "#### Tercera columna: Edad\n",
    "#### Cuarta columna: Mascotas (nombre de la mascota si tienen)\n",
    "\n",
    "#### ¿Qué pasa si abres el archivo desde Jupyter y has metido acentos? ¿Puedes solucionarlo?"
   ]
  },
  {
   "cell_type": "code",
   "execution_count": 186,
   "id": "1ce5ecc5-05c2-41ee-8080-6270258a1d88",
   "metadata": {},
   "outputs": [
    {
     "data": {
      "text/plain": [
       "[['Nombre', 'Apellidos', 'Edad', 'Mascotas'],\n",
       " ['Sofia', 'Castillejo_Sanchez', 21, 'Mancha'],\n",
       " ['Lucia', 'Castillejo_Sanchez', 17, 'Mancha'],\n",
       " ['Marta', 'Lopez_Alvarez', 5, 'Chispa']]"
      ]
     },
     "execution_count": 186,
     "metadata": {},
     "output_type": "execute_result"
    }
   ],
   "source": [
    "lst_1=[\"Nombre\", \"Apellidos\",\"Edad\", \"Mascotas\"]\n",
    "lst_2=[\"Sofia\", \"Castillejo_Sanchez\", 21, \"Mancha\"]\n",
    "lst_3=[\"Lucia\", \"Castillejo_Sanchez\", 17, \"Mancha\"]\n",
    "lst_4=[\"Marta\", \"Lopez_Alvarez\", 5, \"Chispa\"]\n",
    "matrix = [lst_1,lst_2,lst_3,lst_4]\n",
    "matrix"
   ]
  },
  {
   "cell_type": "markdown",
   "id": "acfdde50-7f35-499e-b8dc-f8246dfaefb3",
   "metadata": {},
   "source": [
    "#### 13.- Crea un diccionario que contenga las siguientes parejas. Obtén el listado de keys() y guárdalo en una lista. Añade un par de elementos más y después convierte esa lista en un set (1 pto).\n",
    "\n",
    "#### Rattus = novergicus, rattus\n",
    "#### Glaucidium = brasilianum, hoskinsii, californicum, minutissimum\n",
    "#### Echinocactus = grusonii\n",
    "#### Opuntia = 1\n"
   ]
  },
  {
   "cell_type": "code",
   "execution_count": 150,
   "id": "c92024a1-08cf-4ca9-9d8e-40402909e024",
   "metadata": {},
   "outputs": [
    {
     "data": {
      "text/plain": [
       "{'rattus': ['novergicus', 'rattus'],\n",
       " 'glaucidium': ['brasilianum', 'hoskinsii', 'californicum', 'minutissimum'],\n",
       " 'echinocactus': ['grusonii'],\n",
       " 'opuntia': ['1']}"
      ]
     },
     "execution_count": 150,
     "metadata": {},
     "output_type": "execute_result"
    }
   ],
   "source": [
    "mi_dict={'rattus':['novergicus','rattus'], 'glaucidium':['brasilianum','hoskinsii','californicum','minutissimum'], 'echinocactus':['grusonii'], 'opuntia':['1']}\n",
    "mi_dict"
   ]
  },
  {
   "cell_type": "code",
   "execution_count": 152,
   "id": "cff91cae-4923-4adc-8ca3-17b06b802b30",
   "metadata": {},
   "outputs": [
    {
     "data": {
      "text/plain": [
       "['rattus', 'glaucidium', 'echinocactus', 'opuntia']"
      ]
     },
     "execution_count": 152,
     "metadata": {},
     "output_type": "execute_result"
    }
   ],
   "source": [
    "keys = list(mi_dict.keys())\n",
    "keys"
   ]
  },
  {
   "cell_type": "code",
   "execution_count": 153,
   "id": "d11e53bb-bd0e-44b2-9687-aaeb8d35222c",
   "metadata": {},
   "outputs": [
    {
     "data": {
      "text/plain": [
       "['rattus', 'glaucidium', 'echinocactus', 'opuntia', 'hello', 'goodbye']"
      ]
     },
     "execution_count": 153,
     "metadata": {},
     "output_type": "execute_result"
    }
   ],
   "source": [
    "keys=keys+['hello','goodbye']\n",
    "keys"
   ]
  },
  {
   "cell_type": "code",
   "execution_count": 154,
   "id": "4a1c8dd2-1ab0-48b2-a7be-828afe339ec0",
   "metadata": {},
   "outputs": [
    {
     "data": {
      "text/plain": [
       "{'echinocactus', 'glaucidium', 'goodbye', 'hello', 'opuntia', 'rattus'}"
      ]
     },
     "execution_count": 154,
     "metadata": {},
     "output_type": "execute_result"
    }
   ],
   "source": [
    "keys=set(keys)\n",
    "keys"
   ]
  }
 ],
 "metadata": {
  "kernelspec": {
   "display_name": "Python [conda env:base] *",
   "language": "python",
   "name": "conda-base-py"
  },
  "language_info": {
   "codemirror_mode": {
    "name": "ipython",
    "version": 3
   },
   "file_extension": ".py",
   "mimetype": "text/x-python",
   "name": "python",
   "nbconvert_exporter": "python",
   "pygments_lexer": "ipython3",
   "version": "3.13.5"
  }
 },
 "nbformat": 4,
 "nbformat_minor": 5
}
