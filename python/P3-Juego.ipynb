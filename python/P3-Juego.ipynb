{
 "cells": [
  {
   "cell_type": "markdown",
   "id": "e87fdfc4",
   "metadata": {},
   "source": [
    "# PRACTICA 3\n",
    "\n",
    "## HEMOS HECHO LA PRÁCTICA EN PAREJA: JESABEL BERMEJO Y SOFÍA CASTILLEJO\n",
    "\n",
    "## JUEGO DE ADIVINANZAS\n",
    "\n",
    "#### Escribe un programa que coja un número entero del 1 al 100, y los jugadores tienen que tratar de adivinar el número.\n",
    "\n",
    "#### Las reglas son las siguientes:\n",
    "\n",
    "1. Si un jugador escoje un número menor que 1 o mayor que 100, el programa dice \"FUERA DE LÍMITES\"\n",
    "2. En el primer turno del jugador, si está en un rango de 10 del número dice \"¡CALIENTE!\". Si está fuera de ese rango dice \"¡FRIO!\"\n",
    "3. En todas las rondas siguientes, si el jugador se acerca más que la vez anterior, dice \"¡MAS CALIENTE!\". Si está más lejos que la anterior vez dice \"¡MAS FRIO!\"\n",
    "4. Cuando el jugador acierte el número, les dirá que han acertado y cuántos intentos les ha llevado\n",
    "\n",
    "\n",
    "\n"
   ]
  },
  {
   "cell_type": "markdown",
   "id": "1ea418c3",
   "metadata": {},
   "source": [
    "##### PISTAS\n",
    "1. Trata obtener un número aleatorio entre el 1 y el 100\n",
    "2. Haz una introducción de tu juego y explica las reglas\n",
    "3. Crea una lista que almacene los intentos. \n",
    "4. Haz un bucle que evalúe un número. Prueba que funcione primero. While podría ir bien\n",
    "5. Modifica ese bucle para que compare nuestro número con el intento. Si se acierta usa break, si no puedes usar continue y tienes que seguir preguntando al jugador por nuevos intentos"
   ]
  },
  {
   "cell_type": "code",
   "execution_count": 55,
   "id": "9d8095d9",
   "metadata": {},
   "outputs": [
    {
     "name": "stdout",
     "output_type": "stream",
     "text": [
      "41\n"
     ]
    }
   ],
   "source": [
    "import random\n",
    "numero = random.randint(0,101)\n",
    "print(numero)"
   ]
  },
  {
   "cell_type": "code",
   "execution_count": 56,
   "id": "86adb0b2-30c0-4df3-aaf8-4028edf91f81",
   "metadata": {},
   "outputs": [
    {
     "name": "stdout",
     "output_type": "stream",
     "text": [
      "¡Bienvenido al juego de adivinanzas numéricas!\n",
      "\n",
      "Reglas:\n",
      "1. Si tu número está fuera de rango el programa imprimirá \"FUERA DE LÍMITES\".\n",
      "2. Si tras tu primer intento estás en un rango de 10 del número el programa imprimirá \"¡CALIENTE!.\n",
      "3. Si tras tu primer intento no estás en un rango de 10 del número el programa imprimirá \"¡FRÍO!.\n",
      "4. A medida que estés más cerca del número en los intentos siguientes el programa imprimirá \"¡MÁS CALIENTE!.\n",
      "5. Si por el contrario te vas alejando, el programa imprimirá \"¡MÁS FRÍO!.\n",
      "6. Cuando aciertes el programa te lo dirá y saldrán los intentos hasta haber llegado al número.\n",
      "\n",
      "Comienza el juego\n",
      "\n"
     ]
    }
   ],
   "source": [
    "print('¡Bienvenido al juego de adivinanzas numéricas!')\n",
    "print()\n",
    "print('Reglas:')\n",
    "print('1. Si tu número está fuera de rango el programa imprimirá \"FUERA DE LÍMITES\".')\n",
    "print('2. Si tras tu primer intento estás en un rango de 10 del número el programa imprimirá \"¡CALIENTE!.')\n",
    "print('3. Si tras tu primer intento no estás en un rango de 10 del número el programa imprimirá \"¡FRÍO!.')\n",
    "print('4. A medida que estés más cerca del número en los intentos siguientes el programa imprimirá \"¡MÁS CALIENTE!.')\n",
    "print('5. Si por el contrario te vas alejando, el programa imprimirá \"¡MÁS FRÍO!.')\n",
    "print('6. Cuando aciertes el programa te lo dirá y saldrán los intentos hasta haber llegado al número.')\n",
    "print()\n",
    "print('Comienza el juego')\n",
    "print() "
   ]
  },
  {
   "cell_type": "code",
   "execution_count": 60,
   "id": "12ecf415-15cd-4bfb-b892-6653237fe96a",
   "metadata": {},
   "outputs": [
    {
     "name": "stdin",
     "output_type": "stream",
     "text": [
      "Escoge un número: 808\n"
     ]
    },
    {
     "name": "stdout",
     "output_type": "stream",
     "text": [
      "¡FUERA DE LÍMITES!\n"
     ]
    },
    {
     "name": "stdin",
     "output_type": "stream",
     "text": [
      "Escoge un número: 800\n"
     ]
    },
    {
     "name": "stdout",
     "output_type": "stream",
     "text": [
      "¡FUERA DE LÍMITES!\n"
     ]
    },
    {
     "name": "stdin",
     "output_type": "stream",
     "text": [
      "Escoge un número: 44\n"
     ]
    },
    {
     "name": "stdout",
     "output_type": "stream",
     "text": [
      "¡MUY CALIENTE!\n"
     ]
    },
    {
     "name": "stdin",
     "output_type": "stream",
     "text": [
      "Escoge un número: 41\n"
     ]
    },
    {
     "name": "stdout",
     "output_type": "stream",
     "text": [
      "Has acertado el número en 4 intentos\n"
     ]
    }
   ],
   "source": [
    "lista_intentos = []\n",
    "while True: \n",
    "    intento = int(input(\"Escoge un número:\"))\n",
    "    if intento < 1 or intento > 100: \n",
    "        print('¡FUERA DE LÍMITES!')\n",
    "        lista_intentos.append(intento)\n",
    "        continue\n",
    "    \n",
    "    if len(lista_intentos) == 0:\n",
    "        if intento == numero: \n",
    "            lista_intentos.append(intento)\n",
    "            print('Has acertado el número en', len(lista_intentos), 'intentos')\n",
    "            break\n",
    "        elif abs(intento-numero)<= 10: \n",
    "            print('¡CALIENTE!')\n",
    "            lista_intentos.append(intento)\n",
    "        else:\n",
    "            print('¡FRÍO!')\n",
    "            lista_intentos.append(intento)\n",
    "    else:\n",
    "        if intento == numero: \n",
    "            lista_intentos.append(intento)\n",
    "            print('Has acertado el número en', len(lista_intentos), 'intentos')\n",
    "            break\n",
    "        elif abs(intento-numero)< abs(lista_intentos[-1]-numero): \n",
    "            print('¡MUY CALIENTE!')\n",
    "            lista_intentos.append(intento)\n",
    "        else:\n",
    "            print('¡MUY FRÍO!')\n",
    "            lista_intentos.append(intento)"
   ]
  }
 ],
 "metadata": {
  "kernelspec": {
   "display_name": "Python [conda env:base] *",
   "language": "python",
   "name": "conda-base-py"
  },
  "language_info": {
   "codemirror_mode": {
    "name": "ipython",
    "version": 3
   },
   "file_extension": ".py",
   "mimetype": "text/x-python",
   "name": "python",
   "nbconvert_exporter": "python",
   "pygments_lexer": "ipython3",
   "version": "3.13.5"
  }
 },
 "nbformat": 4,
 "nbformat_minor": 5
}
