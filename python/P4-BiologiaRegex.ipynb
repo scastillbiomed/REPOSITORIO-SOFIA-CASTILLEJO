{
 "cells": [
  {
   "cell_type": "markdown",
   "id": "985e6f9b",
   "metadata": {},
   "source": [
    "# PRACTICA 4\n",
    "## Ejercicio hecho por Jesabel Bermejo y Sofía Castillejo\n",
    "\n",
    "### Resuelve los siguientes ejercicios"
   ]
  },
  {
   "cell_type": "markdown",
   "id": "28748e51",
   "metadata": {},
   "source": [
    "##### 1.- Abre el fichero dna.txt, guarda una lista del contenido del archivo. Devuelve su longitud y su primer caracter"
   ]
  },
  {
   "cell_type": "code",
   "execution_count": 1,
   "id": "88679bbc",
   "metadata": {},
   "outputs": [
    {
     "name": "stdout",
     "output_type": "stream",
     "text": [
      "La longitud de la secuencia es de 123 bases\n",
      "El primer caracter es: A\n"
     ]
    }
   ],
   "source": [
    "archivo = open('dna.txt')\n",
    "contenido = archivo.readlines()\n",
    "archivo.close()\n",
    "secuencia = ''.join(contenido)\n",
    "print ('La longitud de la secuencia es de',len(secuencia),'bases')\n",
    "print ('El primer caracter es:', secuencia[0])"
   ]
  },
  {
   "cell_type": "markdown",
   "id": "9b87396a",
   "metadata": {},
   "source": [
    "##### 2.- Crea dos archivos. Uno almacena los accession que empiezen por 'a' y el otro el resto"
   ]
  },
  {
   "cell_type": "code",
   "execution_count": 141,
   "id": "73957856",
   "metadata": {},
   "outputs": [],
   "source": [
    "accs = ['ab56', 'bh84', 'hv76', 'ay93', 'ap97', 'bd72']"
   ]
  },
  {
   "cell_type": "code",
   "execution_count": 142,
   "id": "8f62bc8f",
   "metadata": {},
   "outputs": [
    {
     "name": "stdout",
     "output_type": "stream",
     "text": [
      "Accesiones que empiezan por a:\n",
      "ab56\n",
      "ay93\n",
      "ap97\n",
      "\n",
      "Accesiones que no empiezan por a:\n",
      "bh84\n",
      "hv76\n",
      "bd72\n",
      "\n"
     ]
    }
   ],
   "source": [
    "archivo_a = open('empiezan_a.txt','w')\n",
    "archivo_otros = open ('empiezan_otros.txt','w')\n",
    "\n",
    "for acc in accs: \n",
    "    if acc[0] == 'a': \n",
    "        archivo_a.write(acc + '\\n')\n",
    "    else: \n",
    "        archivo_otros.write(acc + '\\n')\n",
    "\n",
    "print('Accesiones que empiezan por a:')\n",
    "archivo_a = open('empiezan_a.txt')\n",
    "print(archivo_a.read())\n",
    "print('Accesiones que no empiezan por a:')\n",
    "archivo_otros = open('empiezan_otros.txt')\n",
    "print(archivo_otros.read())"
   ]
  },
  {
   "cell_type": "markdown",
   "id": "9cbb4adf",
   "metadata": {},
   "source": [
    "##### 3.- Imprime solamente los accessions de la lista anterior que empiecen por 'a' y no acaben con '6'. Pista: usa endswith() y startswidth()"
   ]
  },
  {
   "cell_type": "code",
   "execution_count": 143,
   "id": "b32ca419",
   "metadata": {},
   "outputs": [
    {
     "name": "stdout",
     "output_type": "stream",
     "text": [
      "ay93\n",
      "ap97\n"
     ]
    }
   ],
   "source": [
    "for acc in accs: \n",
    "    if acc.startswith('a'):\n",
    "        if not acc.endswith('6'):\n",
    "            print(acc)"
   ]
  },
  {
   "cell_type": "markdown",
   "id": "42c397b0",
   "metadata": {},
   "source": [
    "##### 4.- Escribe una función que cuente el porcentaje de A de una secuencia"
   ]
  },
  {
   "cell_type": "code",
   "execution_count": 144,
   "id": "da633510",
   "metadata": {},
   "outputs": [
    {
     "name": "stdout",
     "output_type": "stream",
     "text": [
      "54.54545454545454\n"
     ]
    }
   ],
   "source": [
    "secuencia_x = 'ATTTCGAAAAA'\n",
    "def porcentaje_A(secuencia_x):\n",
    "    A = secuencia_x.count('A')\n",
    "    porcentaje_A = (A/len(secuencia_x))*100\n",
    "    return porcentaje_A\n",
    "print(porcentaje_A(secuencia_x))"
   ]
  },
  {
   "cell_type": "markdown",
   "id": "054b8f51",
   "metadata": {},
   "source": [
    "##### ¿Puedes hacer que devuelva dos decimales? ¿Y que lidie con mayúsculas y minúsculas?"
   ]
  },
  {
   "cell_type": "code",
   "execution_count": 145,
   "id": "dc1d5907",
   "metadata": {},
   "outputs": [
    {
     "name": "stdout",
     "output_type": "stream",
     "text": [
      "54.54\n"
     ]
    }
   ],
   "source": [
    "def porcentaje_A(secuencia_x):\n",
    "    A = secuencia_x.count('A') + secuencia_x.count('a') \n",
    "    porcentaje_A = (A/len(secuencia_x))*100\n",
    "    porcentaje_A_str = str(porcentaje_A)\n",
    "    entero = porcentaje_A_str.find('.')\n",
    "    dos_decimales = porcentaje_A_str[:entero+3]\n",
    "    return dos_decimales\n",
    "print(porcentaje_A(secuencia_x))"
   ]
  },
  {
   "cell_type": "markdown",
   "id": "36a03b5f",
   "metadata": {},
   "source": [
    "##### ¿Y que devuelva el número de decimales que yo quiero?"
   ]
  },
  {
   "cell_type": "code",
   "execution_count": 146,
   "id": "1ac51951",
   "metadata": {},
   "outputs": [
    {
     "name": "stdout",
     "output_type": "stream",
     "text": [
      "54.545\n"
     ]
    }
   ],
   "source": [
    "# n = número de decimales que yo quiero\n",
    "def porcentaje_A(): \n",
    "    n = 3\n",
    "    A = secuencia_x.count('A') + secuencia_x.count('a') \n",
    "    porcentaje_A = (A/len(secuencia_x))*100\n",
    "    porcentaje_A_str = str(porcentaje_A)\n",
    "    entero = porcentaje_A_str.find('.')\n",
    "    decimales = porcentaje_A_str[:entero+n+1]\n",
    "    return decimales\n",
    "print (porcentaje_A())"
   ]
  },
  {
   "cell_type": "markdown",
   "id": "2c811d84",
   "metadata": {},
   "source": [
    "##### ¿Sabes poner un valor por defecto en un argumento?"
   ]
  },
  {
   "cell_type": "code",
   "execution_count": 147,
   "id": "60981086",
   "metadata": {},
   "outputs": [
    {
     "name": "stdout",
     "output_type": "stream",
     "text": [
      "Buenas tardes\n"
     ]
    }
   ],
   "source": [
    "def di_buenas_tardes():\n",
    "    print('Buenas tardes')\n",
    "di_buenas_tardes()"
   ]
  },
  {
   "cell_type": "markdown",
   "id": "ab2c106c",
   "metadata": {},
   "source": [
    "##### ¿Qué pasa si no ponemos un argumento? ¿Sabrías hacer una función encapsulada?"
   ]
  },
  {
   "cell_type": "code",
   "execution_count": 148,
   "id": "b155dc1e",
   "metadata": {},
   "outputs": [
    {
     "name": "stdout",
     "output_type": "stream",
     "text": [
      "Buenas tardes Irene\n"
     ]
    }
   ],
   "source": [
    "def hola(): \n",
    "    def saludo(): \n",
    "        return 'Buenas tardes'\n",
    "    print (saludo(), 'Irene')\n",
    "hola()"
   ]
  },
  {
   "cell_type": "markdown",
   "id": "83af4b0f",
   "metadata": {},
   "source": [
    "##### Testea tu función original con assert"
   ]
  },
  {
   "cell_type": "code",
   "execution_count": 149,
   "id": "2bf31b44",
   "metadata": {},
   "outputs": [
    {
     "name": "stdout",
     "output_type": "stream",
     "text": [
      "Función correcta\n"
     ]
    }
   ],
   "source": [
    "def porcentaje_A(secuencia_x):\n",
    "    A = secuencia_x.count('A')\n",
    "    porcentaje_A = (A/len(secuencia_x))*100\n",
    "    return porcentaje_A\n",
    "assert porcentaje_A(secuencia_x) == (secuencia_x.count('A')/len(secuencia_x))*100\n",
    "print ('Función correcta')"
   ]
  },
  {
   "cell_type": "markdown",
   "id": "991abaa2",
   "metadata": {},
   "source": [
    "#### 5.- De la lista de accessions que se proporciona obtén lo siguiente:\n",
    "1. Los que tengan el número 5\n",
    "2. Los que tengan la letra 'd' o la 'e'\n",
    "3. Los que tengan las letras 'd' y 'e' en ese orden\n",
    "4. Los que tengan las letras 'd' y 'e' en ese orden con una letra cualquiera en medio\n",
    "5. Los que tengan ambas letras 'd' y 'e' en cualquier orden\n",
    "6. Los que empiezan por 'x' o por 'y'\n",
    "7. Los que empiezan por 'x' o 'y' y terminan por 'e'\n",
    "8. Los que tienen tres o más dígitos seguidos\n",
    "9. Los que terminan con 'd' seguidos de 'a' o 'r' o 'p'"
   ]
  },
  {
   "cell_type": "code",
   "execution_count": 150,
   "id": "6388ac75",
   "metadata": {},
   "outputs": [],
   "source": [
    "import re"
   ]
  },
  {
   "cell_type": "code",
   "execution_count": 128,
   "id": "d00d3ce7",
   "metadata": {},
   "outputs": [],
   "source": [
    "accs = ['xkn59438', 'yhdck2', 'eihd39d9', 'chdsye847', 'hedle3455', 'xjhd53e', '45da', 'de37dp']"
   ]
  },
  {
   "cell_type": "code",
   "execution_count": 129,
   "id": "5a265f74-a1a8-4911-91a4-305d16d65e2d",
   "metadata": {},
   "outputs": [
    {
     "name": "stdout",
     "output_type": "stream",
     "text": [
      "xkn59438\n",
      "hedle3455\n",
      "xjhd53e\n",
      "45da\n"
     ]
    }
   ],
   "source": [
    "#apartado 1\n",
    "for aac1 in accs:\n",
    "    if re.search ('5',aac1): \n",
    "        print(aac1)"
   ]
  },
  {
   "cell_type": "code",
   "execution_count": 130,
   "id": "821371bf-3e59-4e5e-92eb-17d3677711ad",
   "metadata": {},
   "outputs": [
    {
     "name": "stdout",
     "output_type": "stream",
     "text": [
      "yhdck2\n",
      "eihd39d9\n",
      "chdsye847\n",
      "hedle3455\n",
      "xjhd53e\n",
      "45da\n",
      "de37dp\n"
     ]
    }
   ],
   "source": [
    "#apartado 2\n",
    "for aac2 in accs:\n",
    "    if re.search ('d' or 'e',aac2): \n",
    "        print(aac2)"
   ]
  },
  {
   "cell_type": "code",
   "execution_count": 131,
   "id": "3bac9be4-c6a6-46e8-8b5a-08c5f183f1f2",
   "metadata": {},
   "outputs": [
    {
     "name": "stdout",
     "output_type": "stream",
     "text": [
      "de37dp\n"
     ]
    }
   ],
   "source": [
    "#apartado 3\n",
    "for aac3 in accs:\n",
    "    if re.search ('de',aac3): \n",
    "         print(aac3)"
   ]
  },
  {
   "cell_type": "code",
   "execution_count": 132,
   "id": "8f57cea4-ce62-4597-80f9-099d644a8346",
   "metadata": {},
   "outputs": [
    {
     "name": "stdout",
     "output_type": "stream",
     "text": [
      "hedle3455\n"
     ]
    }
   ],
   "source": [
    "#apartado 4\n",
    "for aac4 in accs:\n",
    "    if re.search ('d.e',aac4): \n",
    "         print(aac4)"
   ]
  },
  {
   "cell_type": "code",
   "execution_count": 133,
   "id": "c2ce3add-578c-48b2-a8d7-3f897e35bd48",
   "metadata": {},
   "outputs": [
    {
     "name": "stdout",
     "output_type": "stream",
     "text": [
      "chdsye847\n",
      "hedle3455\n",
      "xjhd53e\n"
     ]
    }
   ],
   "source": [
    "#apartado 5\n",
    "for aac5 in accs:\n",
    "    if re.search ('d.+e',aac5): \n",
    "         print(aac5)"
   ]
  },
  {
   "cell_type": "code",
   "execution_count": 134,
   "id": "128f9040-492d-4db4-87d1-69907fd44f7d",
   "metadata": {},
   "outputs": [
    {
     "name": "stdout",
     "output_type": "stream",
     "text": [
      "xkn59438\n",
      "yhdck2\n",
      "xjhd53e\n"
     ]
    }
   ],
   "source": [
    "#apartado 6\n",
    "for aac6 in accs:\n",
    "    if aac6[0] == 'x':\n",
    "        print(aac6)\n",
    "    elif aac6[0] == 'y':\n",
    "        print (aac6)"
   ]
  },
  {
   "cell_type": "code",
   "execution_count": 135,
   "id": "d4a3b887-93be-4c3b-adc7-520c66263204",
   "metadata": {},
   "outputs": [
    {
     "name": "stdout",
     "output_type": "stream",
     "text": [
      "xjhd53e\n"
     ]
    }
   ],
   "source": [
    "#apartado 7\n",
    "for aac7 in accs: \n",
    "    if aac7[0] == 'x':\n",
    "        if aac7[-1] == 'e': \n",
    "            print (aac7)\n",
    "    elif aac7[0] == 'y':\n",
    "        if aac7[-1] == 'e': \n",
    "            print (aac7)"
   ]
  },
  {
   "cell_type": "code",
   "execution_count": 136,
   "id": "bba9b7a4-7977-4434-a8f3-0f78ba1eb99b",
   "metadata": {},
   "outputs": [
    {
     "name": "stdout",
     "output_type": "stream",
     "text": [
      "xkn59438\n",
      "chdsye847\n",
      "hedle3455\n"
     ]
    }
   ],
   "source": [
    "#apartado 8\n",
    "import re\n",
    "for aac8 in accs: \n",
    "    if re.search(r'\\d{3,}',aac8): \n",
    "        print (aac8)"
   ]
  },
  {
   "cell_type": "code",
   "execution_count": 137,
   "id": "5b538b0a-e110-4bf3-88ec-64dc01b5b233",
   "metadata": {},
   "outputs": [
    {
     "name": "stdout",
     "output_type": "stream",
     "text": [
      "45da\n",
      "de37dp\n"
     ]
    }
   ],
   "source": [
    "#apartado 9\n",
    "for aac9 in accs: \n",
    "    if aac9[-2:] == 'da':\n",
    "        print (aac9)\n",
    "    elif aac9[-2:] == 'dr':\n",
    "        print (aac9)\n",
    "    elif aac9[-2:] == 'dp':\n",
    "        print (aac9)"
   ]
  }
 ],
 "metadata": {
  "kernelspec": {
   "display_name": "Python [conda env:base] *",
   "language": "python",
   "name": "conda-base-py"
  },
  "language_info": {
   "codemirror_mode": {
    "name": "ipython",
    "version": 3
   },
   "file_extension": ".py",
   "mimetype": "text/x-python",
   "name": "python",
   "nbconvert_exporter": "python",
   "pygments_lexer": "ipython3",
   "version": "3.13.5"
  }
 },
 "nbformat": 4,
 "nbformat_minor": 5
}
